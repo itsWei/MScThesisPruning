{
 "cells": [
  {
   "cell_type": "code",
   "execution_count": 1,
   "metadata": {},
   "outputs": [],
   "source": [
    "import os\n",
    "import copy\n",
    "import numpy as np\n",
    "import pandas as pd\n",
    "import torch\n",
    "\n",
    "from pruning import NetworkOptimization\n",
    "\n",
    "\n",
    "def save_csv(arrs, pth, epoch):\n",
    "    df = pd.DataFrame(np.array(arrs), columns=range(1, epoch + 1))\n",
    "    if os.path.exists(pth):\n",
    "        arrs_old = pd.read_csv(pth, index_col=0).values.reshape(-1, epoch)\n",
    "        arrs = np.concatenate((arrs_old, np.array(arrs)), axis=0)\n",
    "        df = pd.DataFrame(arrs, columns=range(1, epoch + 1))\n",
    "\n",
    "    df.to_csv(pth)"
   ]
  },
  {
   "cell_type": "code",
   "execution_count": 2,
   "metadata": {},
   "outputs": [
    {
     "name": "stdout",
     "output_type": "stream",
     "text": [
      "\n",
      "[v] Using device: cpu\n"
     ]
    }
   ],
   "source": [
    "epoch = 30  ## Epoch size\n",
    "batch = 150 ## Batch size.\n",
    "lr = 0.001 ## Learning rate.\n",
    "data = 'mnist' ## Select data mnist or fashion.\n",
    "edge = 5 ## Number of edge changes.\n",
    "eta = 0.98 ## Decay coef.\n",
    "metro = '1' \n",
    "reduce = '10,20,30,40,50,60,70,80,90,95,99,99.8'\n",
    "\n",
    "METRO = np.array(metro.split(',')).astype(int)\n",
    "REDUCE = np.array(reduce.split(',')).astype(float) * 0.01\n",
    "\n",
    "device = torch.device('cuda' if torch.cuda.is_available() else 'cpu')\n",
    "print('\\n[v] Using device: {}'.format(device))\n",
    "\n",
    "layer = ['fc1','fc2','fc3','fc4']"
   ]
  },
  {
   "cell_type": "code",
   "execution_count": 3,
   "metadata": {},
   "outputs": [
    {
     "name": "stdout",
     "output_type": "stream",
     "text": [
      "0.9602och: 1 | test acc: 0.96 | test loss: 0.286\n",
      "0.9665och: 2 | test acc: 0.966 | test loss: 0.183\n",
      "0.9707och: 3 | test acc: 0.971 | test loss: 0.143\n",
      "0.9732och: 4 | test acc: 0.973 | test loss: 0.115\n",
      "0.9747och: 5 | test acc: 0.975 | test loss: 0.102\n"
     ]
    }
   ],
   "source": [
    "nnOpt = copy.deepcopy(NetworkOptimization(batch_size=batch,\n",
    "                                        learning_rate=lr,\n",
    "                                        mask_ratio=[\n",
    "                                        0, 0.0, 0.0, 0],\n",
    "                                        eta=eta, data=data,\n",
    "                                        edge_changed=edge))\n",
    "losses, accs, epoch = nnOpt.fit(epoch_num=5,  # EPOCH\n",
    "                                save_step=np.inf)\n",
    "        "
   ]
  },
  {
   "cell_type": "markdown",
   "metadata": {},
   "source": [
    "# SA"
   ]
  },
  {
   "cell_type": "code",
   "execution_count": 8,
   "metadata": {},
   "outputs": [
    {
     "name": "stdout",
     "output_type": "stream",
     "text": [
      "[v] Start SA method.\n",
      "Save to:  mnist_edge5_SA/performance_under_different_M\n",
      "[v] Start 10.0% Reduced Case\n",
      "0.026572629809379578\n",
      "0.9732och: 1 | test acc: 0.973 | test loss: 0.097t loss: 0.133 | T: 0.0 | M1: 90.066% | M2: 88.88% | M3: 89.84% | M4: 91.2% \n",
      "[v] Finish 10.0% Reduced Case\n",
      "[v] Start 20.0% Reduced Case\n"
     ]
    },
    {
     "ename": "KeyboardInterrupt",
     "evalue": "",
     "output_type": "error",
     "traceback": [
      "\u001b[0;31m---------------------------------------------------------------------------\u001b[0m",
      "\u001b[0;31mKeyboardInterrupt\u001b[0m                         Traceback (most recent call last)",
      "Cell \u001b[0;32mIn[8], line 25\u001b[0m\n\u001b[1;32m     21\u001b[0m \u001b[39mprint\u001b[39m(\u001b[39m'\u001b[39m\u001b[39m[v] Start \u001b[39m\u001b[39m{:>2}\u001b[39;00m\u001b[39m%\u001b[39m\u001b[39m Reduced Case\u001b[39m\u001b[39m'\u001b[39m\u001b[39m.\u001b[39mformat(r \u001b[39m*\u001b[39m \u001b[39m100\u001b[39m))\n\u001b[1;32m     23\u001b[0m nnOpt_SA \u001b[39m=\u001b[39m copy\u001b[39m.\u001b[39mdeepcopy(nnOpt)\n\u001b[0;32m---> 25\u001b[0m loss, acc, Hq_iter \u001b[39m=\u001b[39m nnOpt_SA\u001b[39m.\u001b[39;49mFCSA(layer, reduce\u001b[39m=\u001b[39;49mr, metropolis\u001b[39m=\u001b[39;49m\u001b[39m1\u001b[39;49m, iteration \u001b[39m=\u001b[39;49m \u001b[39m200\u001b[39;49m)\n\u001b[1;32m     27\u001b[0m loss_untrained\u001b[39m.\u001b[39mappend(loss)\n\u001b[1;32m     28\u001b[0m acc_untrained\u001b[39m.\u001b[39mappend(acc)\n",
      "File \u001b[0;32m~/Desktop/untitled folder/pruning.py:256\u001b[0m, in \u001b[0;36mNetworkOptimization.FCSA\u001b[0;34m(self, layer, reduce, metropolis, iteration)\u001b[0m\n\u001b[1;32m    254\u001b[0m outputs \u001b[39m=\u001b[39m \u001b[39mself\u001b[39m\u001b[39m.\u001b[39mmodel(test_data\u001b[39m.\u001b[39mview(test_data\u001b[39m.\u001b[39mshape[\u001b[39m0\u001b[39m], \u001b[39m-\u001b[39m\u001b[39m1\u001b[39m))\n\u001b[1;32m    255\u001b[0m loss \u001b[39m=\u001b[39m \u001b[39mself\u001b[39m\u001b[39m.\u001b[39mloss_func(outputs, test_label)\n\u001b[0;32m--> 256\u001b[0m T \u001b[39m=\u001b[39m \u001b[39mself\u001b[39;49m\u001b[39m.\u001b[39;49mTest_Temp(layer)\n\u001b[1;32m    258\u001b[0m loss_iter \u001b[39m=\u001b[39m []\n\u001b[1;32m    260\u001b[0m \u001b[39mfor\u001b[39;00m i \u001b[39min\u001b[39;00m np\u001b[39m.\u001b[39marange(iteration):\n",
      "File \u001b[0;32m~/Desktop/untitled folder/pruning.py:219\u001b[0m, in \u001b[0;36mNetworkOptimization.Test_Temp\u001b[0;34m(self, layer)\u001b[0m\n\u001b[1;32m    217\u001b[0m delta_loss \u001b[39m=\u001b[39m np\u001b[39m.\u001b[39mempty(\u001b[39m1000\u001b[39m)\n\u001b[1;32m    218\u001b[0m \u001b[39mfor\u001b[39;00m i \u001b[39min\u001b[39;00m \u001b[39mrange\u001b[39m(\u001b[39m1000\u001b[39m):\n\u001b[0;32m--> 219\u001b[0m     \u001b[39mself\u001b[39m\u001b[39m.\u001b[39mmodel \u001b[39m=\u001b[39m \u001b[39mself\u001b[39;49m\u001b[39m.\u001b[39;49mlink_modify(\u001b[39mself\u001b[39;49m\u001b[39m.\u001b[39;49mmodel, layer,\n\u001b[1;32m    220\u001b[0m                                       \u001b[39mself\u001b[39;49m\u001b[39m.\u001b[39;49medge_changed)\n\u001b[1;32m    222\u001b[0m     outputs \u001b[39m=\u001b[39m \u001b[39mself\u001b[39m\u001b[39m.\u001b[39mmodel(test_data\u001b[39m.\u001b[39mview(test_data\u001b[39m.\u001b[39mshape[\u001b[39m0\u001b[39m], \u001b[39m-\u001b[39m\u001b[39m1\u001b[39m))\n\u001b[1;32m    223\u001b[0m     loss_new \u001b[39m=\u001b[39m \u001b[39mself\u001b[39m\u001b[39m.\u001b[39mloss_func(outputs, test_label)\n",
      "File \u001b[0;32m~/Desktop/untitled folder/pruning.py:170\u001b[0m, in \u001b[0;36mNetworkOptimization.link_modify\u001b[0;34m(self, model, layer, num_link)\u001b[0m\n\u001b[1;32m    168\u001b[0m \u001b[39mdef\u001b[39;00m \u001b[39mlink_modify\u001b[39m(\u001b[39mself\u001b[39m, model, layer, num_link):\n\u001b[1;32m    169\u001b[0m     \u001b[39mfor\u001b[39;00m _ \u001b[39min\u001b[39;00m \u001b[39mrange\u001b[39m(num_link):\n\u001b[0;32m--> 170\u001b[0m         mask_1 \u001b[39m=\u001b[39m \u001b[39mgetattr\u001b[39;49m(model, layer[\u001b[39m0\u001b[39;49m])\u001b[39m.\u001b[39;49mmask\u001b[39m.\u001b[39;49mdata\u001b[39m.\u001b[39;49mclone()\n\u001b[1;32m    171\u001b[0m         mask_2 \u001b[39m=\u001b[39m \u001b[39mgetattr\u001b[39m(model, layer[\u001b[39m1\u001b[39m])\u001b[39m.\u001b[39mmask\u001b[39m.\u001b[39mdata\u001b[39m.\u001b[39mclone()\n\u001b[1;32m    172\u001b[0m         mask_3 \u001b[39m=\u001b[39m \u001b[39mgetattr\u001b[39m(model, layer[\u001b[39m2\u001b[39m])\u001b[39m.\u001b[39mmask\u001b[39m.\u001b[39mdata\u001b[39m.\u001b[39mclone()\n",
      "\u001b[0;31mKeyboardInterrupt\u001b[0m: "
     ]
    }
   ],
   "source": [
    "print('[v] Start SA method.')\n",
    "folder = '{}_edge{}_SA/performance_under_different_M'.format(data, edge)\n",
    "print('Save to: ', folder)\n",
    "if not os.path.exists(folder):\n",
    "    os.makedirs(folder)\n",
    "                \n",
    "file_loss_untrained = 'loss_untrained.csv'\n",
    "file_acc_untrained = 'acc_untrained.csv'\n",
    "file_loss_trained = 'loss_trained.csv'\n",
    "file_acc_trained = 'acc_trained.csv'\n",
    "            \n",
    "loss_untrained, acc_untrained = [], []\n",
    "loss_trained, acc_trained = [], []\n",
    "                \n",
    "loss_untrained.append(losses[-1])\n",
    "acc_untrained.append(accs[-1])\n",
    "loss_trained.append(losses[-1])\n",
    "acc_trained.append(accs[-1])\n",
    "                \n",
    "for r in REDUCE:\n",
    "    print('[v] Start {:>2}% Reduced Case'.format(r * 100))\n",
    "            \n",
    "    nnOpt_SA = copy.deepcopy(nnOpt)\n",
    "                \n",
    "    loss, acc, Hq_iter = nnOpt_SA.FCSA(layer, reduce=r, metropolis=1, iteration = 200)\n",
    "                \n",
    "    loss_untrained.append(loss)\n",
    "    acc_untrained.append(acc)\n",
    "\n",
    "    losses_new, accs_new, epoch = nnOpt_SA.fit(epoch_num=1, save_step=np.inf)\n",
    "        \n",
    "    loss_trained.append(losses_new[-1])\n",
    "    acc_trained.append(accs_new[-1])\n",
    "                \n",
    "    del nnOpt_SA\n",
    "\n",
    "    print('[v] Finish {:>2}% Reduced Case'.format(r * 100))\n",
    "    # break\n",
    "        \n",
    "save_csv([loss_untrained], os.path.join(folder, file_loss_untrained), epoch=len(loss_untrained))  # EPOCH\n",
    "save_csv([acc_untrained], os.path.join(folder, file_acc_untrained), epoch=len(acc_untrained))  # EPOCH\n",
    "save_csv([loss_trained], os.path.join(folder, file_loss_trained), epoch=len(loss_trained))  # EPOCH\n",
    "save_csv([acc_trained], os.path.join(folder, file_acc_trained), epoch=len(acc_trained))  # EPOCH\n",
    "\n",
    "print('[v] Finish SA method.')\n",
    "# break"
   ]
  },
  {
   "cell_type": "code",
   "execution_count": 4,
   "metadata": {},
   "outputs": [
    {
     "name": "stdout",
     "output_type": "stream",
     "text": [
      "[v] Start SQA method.\n",
      "Save to:  mnist_edge5_SQA/performance_under_different_M/metropolis_1\n",
      "[v] Start 1 metro.\n",
      "[v] Start 10.0% Reduced Case\n",
      "0.028537988662719727\n",
      "0.9743och: 1 | test acc: 0.974 | test loss: 0.09655 | M1: 89.982% | M2: 89.4% | M3: 90.36% | M4: 92.6%\n",
      "[v] Finish 10.0% Reduced Case\n",
      "[v] Start 20.0% Reduced Case\n"
     ]
    },
    {
     "ename": "KeyboardInterrupt",
     "evalue": "",
     "output_type": "error",
     "traceback": [
      "\u001b[0;31m---------------------------------------------------------------------------\u001b[0m",
      "\u001b[0;31mKeyboardInterrupt\u001b[0m                         Traceback (most recent call last)",
      "Cell \u001b[0;32mIn[4], line 28\u001b[0m\n\u001b[1;32m     24\u001b[0m \u001b[39mprint\u001b[39m(\u001b[39m'\u001b[39m\u001b[39m[v] Start \u001b[39m\u001b[39m{:>2}\u001b[39;00m\u001b[39m%\u001b[39m\u001b[39m Reduced Case\u001b[39m\u001b[39m'\u001b[39m\u001b[39m.\u001b[39mformat(r \u001b[39m*\u001b[39m \u001b[39m100\u001b[39m))\n\u001b[1;32m     26\u001b[0m nnOpt_SQA \u001b[39m=\u001b[39m copy\u001b[39m.\u001b[39mdeepcopy(nnOpt)\n\u001b[0;32m---> 28\u001b[0m loss, acc, Hq_iter, data_iter \u001b[39m=\u001b[39m nnOpt_SQA\u001b[39m.\u001b[39;49mFCSQA(layer, reduce\u001b[39m=\u001b[39;49mr, metropolis\u001b[39m=\u001b[39;49mm, iteration\u001b[39m=\u001b[39;49m\u001b[39m200\u001b[39;49m)\n\u001b[1;32m     30\u001b[0m loss_untrained\u001b[39m.\u001b[39mappend(loss)\n\u001b[1;32m     31\u001b[0m acc_untrained\u001b[39m.\u001b[39mappend(acc)\n",
      "File \u001b[0;32m~/Desktop/untitled folder/pruning.py:332\u001b[0m, in \u001b[0;36mNetworkOptimization.FCSQA\u001b[0;34m(self, layer, reduce, metropolis, iteration)\u001b[0m\n\u001b[1;32m    329\u001b[0m sigma \u001b[39m=\u001b[39m np\u001b[39m.\u001b[39mzeros([metropolis\u001b[39m+\u001b[39m\u001b[39m1\u001b[39m,N])\n\u001b[1;32m    330\u001b[0m Hq \u001b[39m=\u001b[39m H_loss \u001b[39m=\u001b[39m np\u001b[39m.\u001b[39mempty(metropolis)\n\u001b[0;32m--> 332\u001b[0m T \u001b[39m=\u001b[39m \u001b[39mself\u001b[39;49m\u001b[39m.\u001b[39;49mTest_Temp(layer)\n\u001b[1;32m    333\u001b[0m Tau \u001b[39m=\u001b[39m metropolis\u001b[39m*\u001b[39mT\u001b[39m*\u001b[39mnp\u001b[39m.\u001b[39marctanh(\u001b[39m1\u001b[39m\u001b[39m/\u001b[39m(\u001b[39m4\u001b[39m\u001b[39m*\u001b[39mN)\u001b[39m*\u001b[39m\u001b[39m*\u001b[39m(\u001b[39m1\u001b[39m\u001b[39m/\u001b[39m(\u001b[39m2\u001b[39m\u001b[39m*\u001b[39mN)))\n\u001b[1;32m    335\u001b[0m J_plus \u001b[39m=\u001b[39m T\u001b[39m/\u001b[39m\u001b[39m2\u001b[39m \u001b[39m*\u001b[39m np\u001b[39m.\u001b[39mlog(coth(Tau \u001b[39m/\u001b[39m (metropolis\u001b[39m*\u001b[39mT)))\n",
      "File \u001b[0;32m~/Desktop/untitled folder/pruning.py:222\u001b[0m, in \u001b[0;36mNetworkOptimization.Test_Temp\u001b[0;34m(self, layer)\u001b[0m\n\u001b[1;32m    218\u001b[0m \u001b[39mfor\u001b[39;00m i \u001b[39min\u001b[39;00m \u001b[39mrange\u001b[39m(\u001b[39m1000\u001b[39m):\n\u001b[1;32m    219\u001b[0m     \u001b[39mself\u001b[39m\u001b[39m.\u001b[39mmodel \u001b[39m=\u001b[39m \u001b[39mself\u001b[39m\u001b[39m.\u001b[39mlink_modify(\u001b[39mself\u001b[39m\u001b[39m.\u001b[39mmodel, layer,\n\u001b[1;32m    220\u001b[0m                                       \u001b[39mself\u001b[39m\u001b[39m.\u001b[39medge_changed)\n\u001b[0;32m--> 222\u001b[0m     outputs \u001b[39m=\u001b[39m \u001b[39mself\u001b[39;49m\u001b[39m.\u001b[39;49mmodel(test_data\u001b[39m.\u001b[39;49mview(test_data\u001b[39m.\u001b[39;49mshape[\u001b[39m0\u001b[39;49m], \u001b[39m-\u001b[39;49m\u001b[39m1\u001b[39;49m))\n\u001b[1;32m    223\u001b[0m     loss_new \u001b[39m=\u001b[39m \u001b[39mself\u001b[39m\u001b[39m.\u001b[39mloss_func(outputs, test_label)\n\u001b[1;32m    224\u001b[0m     \u001b[39m# delta_loss[i] = abs(loss.detach().numpy() - loss_new.detach().numpy())\u001b[39;00m\n",
      "File \u001b[0;32m~/miniconda3/envs/vs_code/lib/python3.11/site-packages/torch/nn/modules/module.py:1501\u001b[0m, in \u001b[0;36mModule._call_impl\u001b[0;34m(self, *args, **kwargs)\u001b[0m\n\u001b[1;32m   1496\u001b[0m \u001b[39m# If we don't have any hooks, we want to skip the rest of the logic in\u001b[39;00m\n\u001b[1;32m   1497\u001b[0m \u001b[39m# this function, and just call forward.\u001b[39;00m\n\u001b[1;32m   1498\u001b[0m \u001b[39mif\u001b[39;00m \u001b[39mnot\u001b[39;00m (\u001b[39mself\u001b[39m\u001b[39m.\u001b[39m_backward_hooks \u001b[39mor\u001b[39;00m \u001b[39mself\u001b[39m\u001b[39m.\u001b[39m_backward_pre_hooks \u001b[39mor\u001b[39;00m \u001b[39mself\u001b[39m\u001b[39m.\u001b[39m_forward_hooks \u001b[39mor\u001b[39;00m \u001b[39mself\u001b[39m\u001b[39m.\u001b[39m_forward_pre_hooks\n\u001b[1;32m   1499\u001b[0m         \u001b[39mor\u001b[39;00m _global_backward_pre_hooks \u001b[39mor\u001b[39;00m _global_backward_hooks\n\u001b[1;32m   1500\u001b[0m         \u001b[39mor\u001b[39;00m _global_forward_hooks \u001b[39mor\u001b[39;00m _global_forward_pre_hooks):\n\u001b[0;32m-> 1501\u001b[0m     \u001b[39mreturn\u001b[39;00m forward_call(\u001b[39m*\u001b[39;49margs, \u001b[39m*\u001b[39;49m\u001b[39m*\u001b[39;49mkwargs)\n\u001b[1;32m   1502\u001b[0m \u001b[39m# Do not call functions when jit is used\u001b[39;00m\n\u001b[1;32m   1503\u001b[0m full_backward_hooks, non_full_backward_hooks \u001b[39m=\u001b[39m [], []\n",
      "File \u001b[0;32m~/Desktop/untitled folder/network.py:141\u001b[0m, in \u001b[0;36mNetwork.forward\u001b[0;34m(self, x)\u001b[0m\n\u001b[1;32m    138\u001b[0m x \u001b[39m=\u001b[39m \u001b[39mself\u001b[39m\u001b[39m.\u001b[39mbn2(x)\n\u001b[1;32m    139\u001b[0m x \u001b[39m=\u001b[39m \u001b[39mself\u001b[39m\u001b[39m.\u001b[39mrelu(x)\n\u001b[0;32m--> 141\u001b[0m x \u001b[39m=\u001b[39m \u001b[39mself\u001b[39;49m\u001b[39m.\u001b[39;49mfc3(x)\n\u001b[1;32m    142\u001b[0m x \u001b[39m=\u001b[39m \u001b[39mself\u001b[39m\u001b[39m.\u001b[39mbn3(x)\n\u001b[1;32m    143\u001b[0m x \u001b[39m=\u001b[39m \u001b[39mself\u001b[39m\u001b[39m.\u001b[39mrelu(x)\n",
      "File \u001b[0;32m~/miniconda3/envs/vs_code/lib/python3.11/site-packages/torch/nn/modules/module.py:1501\u001b[0m, in \u001b[0;36mModule._call_impl\u001b[0;34m(self, *args, **kwargs)\u001b[0m\n\u001b[1;32m   1496\u001b[0m \u001b[39m# If we don't have any hooks, we want to skip the rest of the logic in\u001b[39;00m\n\u001b[1;32m   1497\u001b[0m \u001b[39m# this function, and just call forward.\u001b[39;00m\n\u001b[1;32m   1498\u001b[0m \u001b[39mif\u001b[39;00m \u001b[39mnot\u001b[39;00m (\u001b[39mself\u001b[39m\u001b[39m.\u001b[39m_backward_hooks \u001b[39mor\u001b[39;00m \u001b[39mself\u001b[39m\u001b[39m.\u001b[39m_backward_pre_hooks \u001b[39mor\u001b[39;00m \u001b[39mself\u001b[39m\u001b[39m.\u001b[39m_forward_hooks \u001b[39mor\u001b[39;00m \u001b[39mself\u001b[39m\u001b[39m.\u001b[39m_forward_pre_hooks\n\u001b[1;32m   1499\u001b[0m         \u001b[39mor\u001b[39;00m _global_backward_pre_hooks \u001b[39mor\u001b[39;00m _global_backward_hooks\n\u001b[1;32m   1500\u001b[0m         \u001b[39mor\u001b[39;00m _global_forward_hooks \u001b[39mor\u001b[39;00m _global_forward_pre_hooks):\n\u001b[0;32m-> 1501\u001b[0m     \u001b[39mreturn\u001b[39;00m forward_call(\u001b[39m*\u001b[39;49margs, \u001b[39m*\u001b[39;49m\u001b[39m*\u001b[39;49mkwargs)\n\u001b[1;32m   1502\u001b[0m \u001b[39m# Do not call functions when jit is used\u001b[39;00m\n\u001b[1;32m   1503\u001b[0m full_backward_hooks, non_full_backward_hooks \u001b[39m=\u001b[39m [], []\n",
      "File \u001b[0;32m~/Desktop/untitled folder/network.py:89\u001b[0m, in \u001b[0;36mCustomizedLinear.forward\u001b[0;34m(self, input)\u001b[0m\n\u001b[1;32m     88\u001b[0m \u001b[39mdef\u001b[39;00m \u001b[39mforward\u001b[39m(\u001b[39mself\u001b[39m, \u001b[39minput\u001b[39m):\n\u001b[0;32m---> 89\u001b[0m     \u001b[39mreturn\u001b[39;00m LinearFunction\u001b[39m.\u001b[39;49mapply(\n\u001b[1;32m     90\u001b[0m         \u001b[39minput\u001b[39;49m, \u001b[39mself\u001b[39;49m\u001b[39m.\u001b[39;49mweight, \u001b[39mself\u001b[39;49m\u001b[39m.\u001b[39;49mbias, \u001b[39mself\u001b[39;49m\u001b[39m.\u001b[39;49mmask\n\u001b[1;32m     91\u001b[0m     )\n",
      "File \u001b[0;32m~/miniconda3/envs/vs_code/lib/python3.11/site-packages/torch/autograd/function.py:506\u001b[0m, in \u001b[0;36mFunction.apply\u001b[0;34m(cls, *args, **kwargs)\u001b[0m\n\u001b[1;32m    503\u001b[0m \u001b[39mif\u001b[39;00m \u001b[39mnot\u001b[39;00m torch\u001b[39m.\u001b[39m_C\u001b[39m.\u001b[39m_are_functorch_transforms_active():\n\u001b[1;32m    504\u001b[0m     \u001b[39m# See NOTE: [functorch vjp and autograd interaction]\u001b[39;00m\n\u001b[1;32m    505\u001b[0m     args \u001b[39m=\u001b[39m _functorch\u001b[39m.\u001b[39mutils\u001b[39m.\u001b[39munwrap_dead_wrappers(args)\n\u001b[0;32m--> 506\u001b[0m     \u001b[39mreturn\u001b[39;00m \u001b[39msuper\u001b[39;49m()\u001b[39m.\u001b[39;49mapply(\u001b[39m*\u001b[39;49margs, \u001b[39m*\u001b[39;49m\u001b[39m*\u001b[39;49mkwargs)  \u001b[39m# type: ignore[misc]\u001b[39;00m\n\u001b[1;32m    508\u001b[0m \u001b[39mif\u001b[39;00m \u001b[39mcls\u001b[39m\u001b[39m.\u001b[39msetup_context \u001b[39m==\u001b[39m _SingleLevelFunction\u001b[39m.\u001b[39msetup_context:\n\u001b[1;32m    509\u001b[0m     \u001b[39mraise\u001b[39;00m \u001b[39mRuntimeError\u001b[39;00m(\n\u001b[1;32m    510\u001b[0m         \u001b[39m'\u001b[39m\u001b[39mIn order to use an autograd.Function with functorch transforms \u001b[39m\u001b[39m'\u001b[39m\n\u001b[1;32m    511\u001b[0m         \u001b[39m'\u001b[39m\u001b[39m(vmap, grad, jvp, jacrev, ...), it must override the setup_context \u001b[39m\u001b[39m'\u001b[39m\n\u001b[1;32m    512\u001b[0m         \u001b[39m'\u001b[39m\u001b[39mstaticmethod. For more details, please see \u001b[39m\u001b[39m'\u001b[39m\n\u001b[1;32m    513\u001b[0m         \u001b[39m'\u001b[39m\u001b[39mhttps://pytorch.org/docs/master/notes/extending.func.html\u001b[39m\u001b[39m'\u001b[39m)\n",
      "File \u001b[0;32m~/Desktop/untitled folder/network.py:32\u001b[0m, in \u001b[0;36mLinearFunction.forward\u001b[0;34m(ctx, input, weight, bias, mask)\u001b[0m\n\u001b[1;32m     29\u001b[0m \u001b[39mif\u001b[39;00m mask \u001b[39mis\u001b[39;00m \u001b[39mnot\u001b[39;00m \u001b[39mNone\u001b[39;00m:\n\u001b[1;32m     30\u001b[0m     weight \u001b[39m=\u001b[39m weight \u001b[39m*\u001b[39m mask\n\u001b[0;32m---> 32\u001b[0m output \u001b[39m=\u001b[39m \u001b[39minput\u001b[39;49m\u001b[39m.\u001b[39;49mmm(weight\u001b[39m.\u001b[39;49mt()\u001b[39m.\u001b[39;49mfloat())\n\u001b[1;32m     33\u001b[0m \u001b[39mif\u001b[39;00m bias \u001b[39mis\u001b[39;00m \u001b[39mnot\u001b[39;00m \u001b[39mNone\u001b[39;00m:\n\u001b[1;32m     34\u001b[0m     output \u001b[39m+\u001b[39m\u001b[39m=\u001b[39m bias\u001b[39m.\u001b[39munsqueeze(\u001b[39m0\u001b[39m)\u001b[39m.\u001b[39mexpand_as(output)\n",
      "\u001b[0;31mKeyboardInterrupt\u001b[0m: "
     ]
    }
   ],
   "source": [
    "print('[v] Start SQA method.')\n",
    "for m in METRO:\n",
    "    folder = '{}_edge{}_SQA/performance_under_different_M/metropolis_{}'.format(data, edge, m)\n",
    "    print('Save to: ', folder)\n",
    "    if not os.path.exists(folder):\n",
    "        os.makedirs(folder)\n",
    "        \n",
    "    print('[v] Start {} metro.'.format(m))\n",
    "        \n",
    "    file_loss_untrained = 'loss_untrained.csv'\n",
    "    file_acc_untrained = 'acc_untrained.csv'\n",
    "    file_loss_trained = 'loss_trained.csv'\n",
    "    file_acc_trained = 'acc_trained.csv'\n",
    "            \n",
    "    loss_untrained, acc_untrained = [], []\n",
    "    loss_trained, acc_trained = [], []\n",
    "        \n",
    "    loss_untrained.append(losses[-1])\n",
    "    acc_untrained.append(accs[-1])\n",
    "    loss_trained.append(losses[-1])\n",
    "    acc_trained.append(accs[-1])\n",
    "                \n",
    "    for r in REDUCE:\n",
    "        print('[v] Start {:>2}% Reduced Case'.format(r * 100))\n",
    "            \n",
    "        nnOpt_SQA = copy.deepcopy(nnOpt)\n",
    "                \n",
    "        loss, acc, Hq_iter, data_iter = nnOpt_SQA.FCSQA(layer, reduce=r, metropolis=m, iteration=200)\n",
    "                \n",
    "        loss_untrained.append(loss)\n",
    "        acc_untrained.append(acc)\n",
    "\n",
    "        losses_new, accs_new, epoch = nnOpt_SQA.fit(epoch_num=1, save_step=np.inf)\n",
    "            \n",
    "        loss_trained.append(losses_new[-1])\n",
    "        acc_trained.append(accs_new[-1])\n",
    "                \n",
    "        del nnOpt_SQA\n",
    "\n",
    "        print('[v] Finish {:>2}% Reduced Case'.format(r * 100))\n",
    "        # break\n",
    "        \n",
    "    save_csv([loss_untrained], os.path.join(folder, file_loss_untrained), epoch=len(loss_untrained))  # EPOCH\n",
    "    save_csv([acc_untrained], os.path.join(folder, file_acc_untrained), epoch=len(acc_untrained))  # EPOCH\n",
    "    save_csv([loss_trained], os.path.join(folder, file_loss_trained), epoch=len(loss_trained))  # EPOCH\n",
    "    save_csv([acc_trained], os.path.join(folder, file_acc_trained), epoch=len(acc_trained))  # EPOCH\n",
    "            \n",
    "    print('[v] Finish {} metro.'.format(m))\n",
    "    # break\n",
    "    \n",
    "print('[v] Finish SQA method.')\n",
    "# break"
   ]
  },
  {
   "cell_type": "code",
   "execution_count": 5,
   "metadata": {},
   "outputs": [
    {
     "name": "stdout",
     "output_type": "stream",
     "text": [
      "[v] Start minK method.\n",
      "Save to:  mnist_minK/performance_under_different_M\n",
      "[v] Start 10.0% Reduced Case\n",
      "0.9758och: 1 | test acc: 0.976 | test loss: 0.09691% | M2: 95.76% | M3: 95.68% | M4: 96.2% \n",
      "[v] Finish 10.0% Reduced Case\n",
      "[v] Start 20.0% Reduced Case\n",
      "0.9754och: 1 | test acc: 0.975 | test loss: 0.09727% | M2: 91.92% | M3: 91.68% | M4: 93.2% \n",
      "[v] Finish 20.0% Reduced Case\n",
      "[v] Start 30.0% Reduced Case\n",
      "0.9757och: 1 | test acc: 0.976 | test loss: 0.09305% | M2: 87.72% | M3: 87.0% | M4: 84.2% \n",
      "[v] Finish 30.0% Reduced Case\n",
      "[v] Start 40.0% Reduced Case\n",
      "0.978poch: 1 | test acc: 0.978 | test loss: 0.08911% | M2: 83.16% | M3: 82.96% | M4: 79.4% \n",
      "[v] Finish 40.0% Reduced Case\n",
      "[v] Start 50.0% Reduced Case\n",
      "[+] test acc: 0.971 | test loss: 0.113 | M1: 46.079% | M2: 78.4% | M3: 78.0% | M4: 75.4% \r"
     ]
    },
    {
     "ename": "KeyboardInterrupt",
     "evalue": "",
     "output_type": "error",
     "traceback": [
      "\u001b[0;31m---------------------------------------------------------------------------\u001b[0m",
      "\u001b[0;31mKeyboardInterrupt\u001b[0m                         Traceback (most recent call last)",
      "Cell \u001b[0;32mIn[5], line 30\u001b[0m\n\u001b[1;32m     27\u001b[0m loss_untrained\u001b[39m.\u001b[39mappend(loss)\n\u001b[1;32m     28\u001b[0m acc_untrained\u001b[39m.\u001b[39mappend(acc)\n\u001b[0;32m---> 30\u001b[0m losses_new, accs_new, epoch \u001b[39m=\u001b[39m nnOpt_minK\u001b[39m.\u001b[39;49mfit(epoch_num\u001b[39m=\u001b[39;49m\u001b[39m1\u001b[39;49m,  \u001b[39m# epoch\u001b[39;49;00m\n\u001b[1;32m     31\u001b[0m                                                         save_step\u001b[39m=\u001b[39;49mnp\u001b[39m.\u001b[39;49minf)\n\u001b[1;32m     32\u001b[0m loss_trained\u001b[39m.\u001b[39mappend(losses_new[\u001b[39m-\u001b[39m\u001b[39m1\u001b[39m])\n\u001b[1;32m     33\u001b[0m acc_trained\u001b[39m.\u001b[39mappend(accs_new[\u001b[39m-\u001b[39m\u001b[39m1\u001b[39m])\n",
      "File \u001b[0;32m~/Desktop/untitled folder/pruning.py:102\u001b[0m, in \u001b[0;36mNetworkOptimization.fit\u001b[0;34m(self, epoch_num, save_step)\u001b[0m\n\u001b[1;32m     99\u001b[0m batch_img \u001b[39m=\u001b[39m batch_img\u001b[39m.\u001b[39mto(device\u001b[39m=\u001b[39m\u001b[39mself\u001b[39m\u001b[39m.\u001b[39mdevice)\n\u001b[1;32m    100\u001b[0m batch_lab \u001b[39m=\u001b[39m batch_lab\u001b[39m.\u001b[39mto(device\u001b[39m=\u001b[39m\u001b[39mself\u001b[39m\u001b[39m.\u001b[39mdevice)\n\u001b[0;32m--> 102\u001b[0m outputs \u001b[39m=\u001b[39m \u001b[39mself\u001b[39;49m\u001b[39m.\u001b[39;49mmodel(batch_img\u001b[39m.\u001b[39;49mview(\u001b[39mself\u001b[39;49m\u001b[39m.\u001b[39;49mbatch_size, \u001b[39m-\u001b[39;49m\u001b[39m1\u001b[39;49m))\n\u001b[1;32m    103\u001b[0m loss \u001b[39m=\u001b[39m \u001b[39mself\u001b[39m\u001b[39m.\u001b[39mloss_func(outputs, batch_lab)\n\u001b[1;32m    105\u001b[0m \u001b[39mif\u001b[39;00m \u001b[39mself\u001b[39m\u001b[39m.\u001b[39mglobal_step \u001b[39m%\u001b[39m save_step \u001b[39m==\u001b[39m \u001b[39m0\u001b[39m:\n",
      "File \u001b[0;32m~/miniconda3/envs/vs_code/lib/python3.11/site-packages/torch/nn/modules/module.py:1501\u001b[0m, in \u001b[0;36mModule._call_impl\u001b[0;34m(self, *args, **kwargs)\u001b[0m\n\u001b[1;32m   1496\u001b[0m \u001b[39m# If we don't have any hooks, we want to skip the rest of the logic in\u001b[39;00m\n\u001b[1;32m   1497\u001b[0m \u001b[39m# this function, and just call forward.\u001b[39;00m\n\u001b[1;32m   1498\u001b[0m \u001b[39mif\u001b[39;00m \u001b[39mnot\u001b[39;00m (\u001b[39mself\u001b[39m\u001b[39m.\u001b[39m_backward_hooks \u001b[39mor\u001b[39;00m \u001b[39mself\u001b[39m\u001b[39m.\u001b[39m_backward_pre_hooks \u001b[39mor\u001b[39;00m \u001b[39mself\u001b[39m\u001b[39m.\u001b[39m_forward_hooks \u001b[39mor\u001b[39;00m \u001b[39mself\u001b[39m\u001b[39m.\u001b[39m_forward_pre_hooks\n\u001b[1;32m   1499\u001b[0m         \u001b[39mor\u001b[39;00m _global_backward_pre_hooks \u001b[39mor\u001b[39;00m _global_backward_hooks\n\u001b[1;32m   1500\u001b[0m         \u001b[39mor\u001b[39;00m _global_forward_hooks \u001b[39mor\u001b[39;00m _global_forward_pre_hooks):\n\u001b[0;32m-> 1501\u001b[0m     \u001b[39mreturn\u001b[39;00m forward_call(\u001b[39m*\u001b[39;49margs, \u001b[39m*\u001b[39;49m\u001b[39m*\u001b[39;49mkwargs)\n\u001b[1;32m   1502\u001b[0m \u001b[39m# Do not call functions when jit is used\u001b[39;00m\n\u001b[1;32m   1503\u001b[0m full_backward_hooks, non_full_backward_hooks \u001b[39m=\u001b[39m [], []\n",
      "File \u001b[0;32m~/Desktop/untitled folder/network.py:146\u001b[0m, in \u001b[0;36mNetwork.forward\u001b[0;34m(self, x)\u001b[0m\n\u001b[1;32m    143\u001b[0m x \u001b[39m=\u001b[39m \u001b[39mself\u001b[39m\u001b[39m.\u001b[39mrelu(x)\n\u001b[1;32m    145\u001b[0m x \u001b[39m=\u001b[39m \u001b[39mself\u001b[39m\u001b[39m.\u001b[39mfc4(x)\n\u001b[0;32m--> 146\u001b[0m x \u001b[39m=\u001b[39m \u001b[39mself\u001b[39;49m\u001b[39m.\u001b[39;49mbn4(x)\n\u001b[1;32m    147\u001b[0m x \u001b[39m=\u001b[39m \u001b[39mself\u001b[39m\u001b[39m.\u001b[39mrelu(x)\n\u001b[1;32m    149\u001b[0m \u001b[39mreturn\u001b[39;00m x\n",
      "File \u001b[0;32m~/miniconda3/envs/vs_code/lib/python3.11/site-packages/torch/nn/modules/module.py:1501\u001b[0m, in \u001b[0;36mModule._call_impl\u001b[0;34m(self, *args, **kwargs)\u001b[0m\n\u001b[1;32m   1496\u001b[0m \u001b[39m# If we don't have any hooks, we want to skip the rest of the logic in\u001b[39;00m\n\u001b[1;32m   1497\u001b[0m \u001b[39m# this function, and just call forward.\u001b[39;00m\n\u001b[1;32m   1498\u001b[0m \u001b[39mif\u001b[39;00m \u001b[39mnot\u001b[39;00m (\u001b[39mself\u001b[39m\u001b[39m.\u001b[39m_backward_hooks \u001b[39mor\u001b[39;00m \u001b[39mself\u001b[39m\u001b[39m.\u001b[39m_backward_pre_hooks \u001b[39mor\u001b[39;00m \u001b[39mself\u001b[39m\u001b[39m.\u001b[39m_forward_hooks \u001b[39mor\u001b[39;00m \u001b[39mself\u001b[39m\u001b[39m.\u001b[39m_forward_pre_hooks\n\u001b[1;32m   1499\u001b[0m         \u001b[39mor\u001b[39;00m _global_backward_pre_hooks \u001b[39mor\u001b[39;00m _global_backward_hooks\n\u001b[1;32m   1500\u001b[0m         \u001b[39mor\u001b[39;00m _global_forward_hooks \u001b[39mor\u001b[39;00m _global_forward_pre_hooks):\n\u001b[0;32m-> 1501\u001b[0m     \u001b[39mreturn\u001b[39;00m forward_call(\u001b[39m*\u001b[39;49margs, \u001b[39m*\u001b[39;49m\u001b[39m*\u001b[39;49mkwargs)\n\u001b[1;32m   1502\u001b[0m \u001b[39m# Do not call functions when jit is used\u001b[39;00m\n\u001b[1;32m   1503\u001b[0m full_backward_hooks, non_full_backward_hooks \u001b[39m=\u001b[39m [], []\n",
      "File \u001b[0;32m~/miniconda3/envs/vs_code/lib/python3.11/site-packages/torch/nn/modules/batchnorm.py:171\u001b[0m, in \u001b[0;36m_BatchNorm.forward\u001b[0;34m(self, input)\u001b[0m\n\u001b[1;32m    164\u001b[0m     bn_training \u001b[39m=\u001b[39m (\u001b[39mself\u001b[39m\u001b[39m.\u001b[39mrunning_mean \u001b[39mis\u001b[39;00m \u001b[39mNone\u001b[39;00m) \u001b[39mand\u001b[39;00m (\u001b[39mself\u001b[39m\u001b[39m.\u001b[39mrunning_var \u001b[39mis\u001b[39;00m \u001b[39mNone\u001b[39;00m)\n\u001b[1;32m    166\u001b[0m \u001b[39m\u001b[39m\u001b[39mr\u001b[39m\u001b[39m\"\"\"\u001b[39;00m\n\u001b[1;32m    167\u001b[0m \u001b[39mBuffers are only updated if they are to be tracked and we are in training mode. Thus they only need to be\u001b[39;00m\n\u001b[1;32m    168\u001b[0m \u001b[39mpassed when the update should occur (i.e. in training mode when they are tracked), or when buffer stats are\u001b[39;00m\n\u001b[1;32m    169\u001b[0m \u001b[39mused for normalization (i.e. in eval mode when buffers are not None).\u001b[39;00m\n\u001b[1;32m    170\u001b[0m \u001b[39m\"\"\"\u001b[39;00m\n\u001b[0;32m--> 171\u001b[0m \u001b[39mreturn\u001b[39;00m F\u001b[39m.\u001b[39;49mbatch_norm(\n\u001b[1;32m    172\u001b[0m     \u001b[39minput\u001b[39;49m,\n\u001b[1;32m    173\u001b[0m     \u001b[39m# If buffers are not to be tracked, ensure that they won't be updated\u001b[39;49;00m\n\u001b[1;32m    174\u001b[0m     \u001b[39mself\u001b[39;49m\u001b[39m.\u001b[39;49mrunning_mean\n\u001b[1;32m    175\u001b[0m     \u001b[39mif\u001b[39;49;00m \u001b[39mnot\u001b[39;49;00m \u001b[39mself\u001b[39;49m\u001b[39m.\u001b[39;49mtraining \u001b[39mor\u001b[39;49;00m \u001b[39mself\u001b[39;49m\u001b[39m.\u001b[39;49mtrack_running_stats\n\u001b[1;32m    176\u001b[0m     \u001b[39melse\u001b[39;49;00m \u001b[39mNone\u001b[39;49;00m,\n\u001b[1;32m    177\u001b[0m     \u001b[39mself\u001b[39;49m\u001b[39m.\u001b[39;49mrunning_var \u001b[39mif\u001b[39;49;00m \u001b[39mnot\u001b[39;49;00m \u001b[39mself\u001b[39;49m\u001b[39m.\u001b[39;49mtraining \u001b[39mor\u001b[39;49;00m \u001b[39mself\u001b[39;49m\u001b[39m.\u001b[39;49mtrack_running_stats \u001b[39melse\u001b[39;49;00m \u001b[39mNone\u001b[39;49;00m,\n\u001b[1;32m    178\u001b[0m     \u001b[39mself\u001b[39;49m\u001b[39m.\u001b[39;49mweight,\n\u001b[1;32m    179\u001b[0m     \u001b[39mself\u001b[39;49m\u001b[39m.\u001b[39;49mbias,\n\u001b[1;32m    180\u001b[0m     bn_training,\n\u001b[1;32m    181\u001b[0m     exponential_average_factor,\n\u001b[1;32m    182\u001b[0m     \u001b[39mself\u001b[39;49m\u001b[39m.\u001b[39;49meps,\n\u001b[1;32m    183\u001b[0m )\n",
      "File \u001b[0;32m~/miniconda3/envs/vs_code/lib/python3.11/site-packages/torch/nn/functional.py:2450\u001b[0m, in \u001b[0;36mbatch_norm\u001b[0;34m(input, running_mean, running_var, weight, bias, training, momentum, eps)\u001b[0m\n\u001b[1;32m   2447\u001b[0m \u001b[39mif\u001b[39;00m training:\n\u001b[1;32m   2448\u001b[0m     _verify_batch_size(\u001b[39minput\u001b[39m\u001b[39m.\u001b[39msize())\n\u001b[0;32m-> 2450\u001b[0m \u001b[39mreturn\u001b[39;00m torch\u001b[39m.\u001b[39;49mbatch_norm(\n\u001b[1;32m   2451\u001b[0m     \u001b[39minput\u001b[39;49m, weight, bias, running_mean, running_var, training, momentum, eps, torch\u001b[39m.\u001b[39;49mbackends\u001b[39m.\u001b[39;49mcudnn\u001b[39m.\u001b[39;49menabled\n\u001b[1;32m   2452\u001b[0m )\n",
      "\u001b[0;31mKeyboardInterrupt\u001b[0m: "
     ]
    }
   ],
   "source": [
    "print('[v] Start minK method.')\n",
    "folder = '{}_minK/performance_under_different_M'.format(data)\n",
    "print('Save to: ', folder)\n",
    "if not os.path.exists(folder):\n",
    "    os.makedirs(folder)\n",
    "        \n",
    "file_loss_untrained = 'loss_untrained.csv'\n",
    "file_acc_untrained = 'acc_untrained.csv'\n",
    "file_loss_trained = 'loss_trained.csv'\n",
    "file_acc_trained = 'acc_trained.csv'\n",
    "            \n",
    "loss_untrained, acc_untrained = [], []\n",
    "loss_trained, acc_trained = [], []\n",
    "\n",
    "loss_untrained.append(losses[-1])\n",
    "acc_untrained.append(accs[-1])\n",
    "loss_trained.append(losses[-1])\n",
    "acc_trained.append(accs[-1])\n",
    "                \n",
    "for r in REDUCE:\n",
    "    print('[v] Start {:>2}% Reduced Case'.format(r * 100))\n",
    "            \n",
    "    nnOpt_minK = copy.deepcopy(nnOpt)\n",
    "                \n",
    "    loss, acc = nnOpt_minK.MINK(layer, reduce=r)\n",
    "                \n",
    "    loss_untrained.append(loss)\n",
    "    acc_untrained.append(acc)\n",
    "\n",
    "    losses_new, accs_new, epoch = nnOpt_minK.fit(epoch_num=1,  # epoch\n",
    "                                                            save_step=np.inf)\n",
    "    loss_trained.append(losses_new[-1])\n",
    "    acc_trained.append(accs_new[-1])\n",
    "\n",
    "    del nnOpt_minK\n",
    "\n",
    "    print('[v] Finish {:>2}% Reduced Case'.format(r * 100))\n",
    "    # break\n",
    "\n",
    "        \n",
    "save_csv([loss_untrained], os.path.join(folder, file_loss_untrained), epoch=len(loss_untrained))  # EPOCH\n",
    "save_csv([acc_untrained], os.path.join(folder, file_acc_untrained), epoch=len(acc_untrained))  # EPOCH\n",
    "save_csv([loss_trained], os.path.join(folder, file_loss_trained), epoch=len(loss_trained))  # EPOCH\n",
    "save_csv([acc_trained], os.path.join(folder, file_acc_trained), epoch=len(acc_trained))  # EPOCH\n",
    "            \n",
    "print('[v] Finish minK method.')"
   ]
  }
 ],
 "metadata": {
  "kernelspec": {
   "display_name": "vs_code",
   "language": "python",
   "name": "python3"
  },
  "language_info": {
   "codemirror_mode": {
    "name": "ipython",
    "version": 3
   },
   "file_extension": ".py",
   "mimetype": "text/x-python",
   "name": "python",
   "nbconvert_exporter": "python",
   "pygments_lexer": "ipython3",
   "version": "3.11.2"
  },
  "orig_nbformat": 4
 },
 "nbformat": 4,
 "nbformat_minor": 2
}
