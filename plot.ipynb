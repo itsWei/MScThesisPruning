{
 "cells": [
  {
   "cell_type": "code",
   "execution_count": null,
   "metadata": {},
   "outputs": [],
   "source": [
    "import matplotlib.pyplot as plt\n",
    "import pandas as pd\n",
    "import numpy as np"
   ]
  },
  {
   "cell_type": "code",
   "execution_count": null,
   "metadata": {},
   "outputs": [],
   "source": [
    "reduce = [10,20,30,40,50,60,70,80,90,95,99,99.8]\n",
    "metro = [1,10,50]\n",
    "plt.figure(figsize=(12,6))\n",
    "data = pd.read_csv(\"mnist_edge5_SA/performance_under_different_M/acc_untrained.csv\")\n",
    "plt.plot(reduce,data.mean()[2:None],'o-',label='SA')\n",
    "for m in metro:\n",
    "    data = pd.read_csv(\"mnist_edge5_SQA/performance_under_different_M/metropolis_{}/acc_untrained.csv\".format(m))\n",
    "    plt.plot(reduce,data.mean()[2:None],'o-',label='SQA(M={})'.format(m))\n",
    "plt.legend()\n",
    "plt.xticks(reduce[0:-1])\n",
    "plt.grid(color='grey', linestyle='--', linewidth= 0.5 )\n",
    "plt.xlabel('Pruned Ratio')\n",
    "plt.ylabel('Accuracy')\n",
    "plt.savefig('mnist_edge5_acc_untrained_large_network.pdf')"
   ]
  },
  {
   "cell_type": "code",
   "execution_count": null,
   "metadata": {},
   "outputs": [],
   "source": [
    "reduce = [10,20,30,40,50,60,70,80,90,95,99,99.8]\n",
    "metro = [1,10,50]\n",
    "plt.figure(figsize=(12,6))\n",
    "data = pd.read_csv(\"fashion_edge5_SA/performance_under_different_M/acc_trained.csv\")\n",
    "plt.plot(reduce,data.mean()[2:None],'o-',label='SA')\n",
    "for m in metro:\n",
    "    data = pd.read_csv(\"fashion_edge5_SQA/performance_under_different_M/metropolis_{}/acc_trained.csv\".format(m))\n",
    "    plt.plot(reduce,data.mean()[2:None],'o-',label='SQA(M={})'.format(m))\n",
    "plt.legend()\n",
    "plt.xticks(reduce[0:-1])\n",
    "plt.grid(color='grey', linestyle='--', linewidth= 0.5 )\n",
    "plt.xlabel('Pruned Ratio')\n",
    "plt.ylabel('Accuracy')\n",
    "plt.savefig('mnist_edge5_acc_trained_large_network.pdf')"
   ]
  }
 ],
 "metadata": {
  "kernelspec": {
   "display_name": "vs_code",
   "language": "python",
   "name": "python3"
  },
  "language_info": {
   "name": "python",
   "version": "3.11.2"
  },
  "orig_nbformat": 4
 },
 "nbformat": 4,
 "nbformat_minor": 2
}
